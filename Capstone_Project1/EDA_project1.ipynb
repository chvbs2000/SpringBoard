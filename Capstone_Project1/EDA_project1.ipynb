{
 "cells": [
  {
   "cell_type": "code",
   "execution_count": 1,
   "metadata": {},
   "outputs": [],
   "source": [
    "import pandas as pd\n",
    "import matplotlib.pyplot as plt\n",
    "import numpy as np\n",
    "import seaborn as sns"
   ]
  },
  {
   "cell_type": "markdown",
   "metadata": {},
   "source": [
    "### Import Data"
   ]
  },
  {
   "cell_type": "code",
   "execution_count": 2,
   "metadata": {},
   "outputs": [
    {
     "name": "stderr",
     "output_type": "stream",
     "text": [
      "/anaconda3/lib/python3.6/site-packages/IPython/core/interactiveshell.py:2728: DtypeWarning: Columns (10) have mixed types. Specify dtype option on import or set low_memory=False.\n",
      "  interactivity=interactivity, compiler=compiler, result=result)\n",
      "/anaconda3/lib/python3.6/site-packages/numpy/lib/arraysetops.py:472: FutureWarning: elementwise comparison failed; returning scalar instead, but in the future will perform elementwise comparison\n",
      "  mask |= (ar1 == a)\n"
     ]
    },
    {
     "data": {
      "text/html": [
       "<div>\n",
       "<style scoped>\n",
       "    .dataframe tbody tr th:only-of-type {\n",
       "        vertical-align: middle;\n",
       "    }\n",
       "\n",
       "    .dataframe tbody tr th {\n",
       "        vertical-align: top;\n",
       "    }\n",
       "\n",
       "    .dataframe thead th {\n",
       "        text-align: right;\n",
       "    }\n",
       "</style>\n",
       "<table border=\"1\" class=\"dataframe\">\n",
       "  <thead>\n",
       "    <tr style=\"text-align: right;\">\n",
       "      <th></th>\n",
       "      <th>Last Name/Organization Name of the Provider</th>\n",
       "      <th>First Name of the Provider</th>\n",
       "      <th>Middle Initial of the Provider</th>\n",
       "      <th>Credentials of the Provider</th>\n",
       "      <th>Gender of the Provider</th>\n",
       "      <th>Entity Type of the Provider</th>\n",
       "      <th>Street Address 1 of the Provider</th>\n",
       "      <th>Street Address 2 of the Provider</th>\n",
       "      <th>City of the Provider</th>\n",
       "      <th>Zip Code of the Provider</th>\n",
       "      <th>...</th>\n",
       "      <th>HCPCS Code</th>\n",
       "      <th>HCPCS Description</th>\n",
       "      <th>HCPCS Drug Indicator</th>\n",
       "      <th>Number of Services</th>\n",
       "      <th>Number of Medicare Beneficiaries</th>\n",
       "      <th>Number of Distinct Medicare Beneficiary/Per Day Services</th>\n",
       "      <th>Average Medicare Allowed Amount</th>\n",
       "      <th>Average Submitted Charge Amount</th>\n",
       "      <th>Average Medicare Payment Amount</th>\n",
       "      <th>Average Medicare Standardized Amount</th>\n",
       "    </tr>\n",
       "    <tr>\n",
       "      <th>National Provider Identifier</th>\n",
       "      <th></th>\n",
       "      <th></th>\n",
       "      <th></th>\n",
       "      <th></th>\n",
       "      <th></th>\n",
       "      <th></th>\n",
       "      <th></th>\n",
       "      <th></th>\n",
       "      <th></th>\n",
       "      <th></th>\n",
       "      <th></th>\n",
       "      <th></th>\n",
       "      <th></th>\n",
       "      <th></th>\n",
       "      <th></th>\n",
       "      <th></th>\n",
       "      <th></th>\n",
       "      <th></th>\n",
       "      <th></th>\n",
       "      <th></th>\n",
       "      <th></th>\n",
       "    </tr>\n",
       "  </thead>\n",
       "  <tbody>\n",
       "    <tr>\n",
       "      <th>1003000126</th>\n",
       "      <td>ENKESHAFI</td>\n",
       "      <td>ARDALAN</td>\n",
       "      <td>NaN</td>\n",
       "      <td>M.D.</td>\n",
       "      <td>M</td>\n",
       "      <td>I</td>\n",
       "      <td>900 SETON DR</td>\n",
       "      <td>NaN</td>\n",
       "      <td>CUMBERLAND</td>\n",
       "      <td>215021854</td>\n",
       "      <td>...</td>\n",
       "      <td>99217</td>\n",
       "      <td>Hospital observation care discharge</td>\n",
       "      <td>N</td>\n",
       "      <td>23.0</td>\n",
       "      <td>23.0</td>\n",
       "      <td>23.0</td>\n",
       "      <td>72.680000</td>\n",
       "      <td>328.000000</td>\n",
       "      <td>54.502609</td>\n",
       "      <td>55.280870</td>\n",
       "    </tr>\n",
       "    <tr>\n",
       "      <th>1003000126</th>\n",
       "      <td>ENKESHAFI</td>\n",
       "      <td>ARDALAN</td>\n",
       "      <td>NaN</td>\n",
       "      <td>M.D.</td>\n",
       "      <td>M</td>\n",
       "      <td>I</td>\n",
       "      <td>900 SETON DR</td>\n",
       "      <td>NaN</td>\n",
       "      <td>CUMBERLAND</td>\n",
       "      <td>215021854</td>\n",
       "      <td>...</td>\n",
       "      <td>99219</td>\n",
       "      <td>Hospital observation care typically 50 minutes</td>\n",
       "      <td>N</td>\n",
       "      <td>18.0</td>\n",
       "      <td>18.0</td>\n",
       "      <td>18.0</td>\n",
       "      <td>135.850000</td>\n",
       "      <td>614.000000</td>\n",
       "      <td>100.958889</td>\n",
       "      <td>102.348889</td>\n",
       "    </tr>\n",
       "    <tr>\n",
       "      <th>1003000126</th>\n",
       "      <td>ENKESHAFI</td>\n",
       "      <td>ARDALAN</td>\n",
       "      <td>NaN</td>\n",
       "      <td>M.D.</td>\n",
       "      <td>M</td>\n",
       "      <td>I</td>\n",
       "      <td>900 SETON DR</td>\n",
       "      <td>NaN</td>\n",
       "      <td>CUMBERLAND</td>\n",
       "      <td>215021854</td>\n",
       "      <td>...</td>\n",
       "      <td>99221</td>\n",
       "      <td>Initial hospital inpatient care, typically 30 ...</td>\n",
       "      <td>N</td>\n",
       "      <td>59.0</td>\n",
       "      <td>58.0</td>\n",
       "      <td>59.0</td>\n",
       "      <td>101.365085</td>\n",
       "      <td>333.288136</td>\n",
       "      <td>79.469661</td>\n",
       "      <td>80.859831</td>\n",
       "    </tr>\n",
       "    <tr>\n",
       "      <th>1003000126</th>\n",
       "      <td>ENKESHAFI</td>\n",
       "      <td>ARDALAN</td>\n",
       "      <td>NaN</td>\n",
       "      <td>M.D.</td>\n",
       "      <td>M</td>\n",
       "      <td>I</td>\n",
       "      <td>900 SETON DR</td>\n",
       "      <td>NaN</td>\n",
       "      <td>CUMBERLAND</td>\n",
       "      <td>215021854</td>\n",
       "      <td>...</td>\n",
       "      <td>99222</td>\n",
       "      <td>Initial hospital inpatient care, typically 50 ...</td>\n",
       "      <td>N</td>\n",
       "      <td>132.0</td>\n",
       "      <td>130.0</td>\n",
       "      <td>132.0</td>\n",
       "      <td>139.010455</td>\n",
       "      <td>356.492424</td>\n",
       "      <td>107.933409</td>\n",
       "      <td>107.969621</td>\n",
       "    </tr>\n",
       "    <tr>\n",
       "      <th>1003000126</th>\n",
       "      <td>ENKESHAFI</td>\n",
       "      <td>ARDALAN</td>\n",
       "      <td>NaN</td>\n",
       "      <td>M.D.</td>\n",
       "      <td>M</td>\n",
       "      <td>I</td>\n",
       "      <td>900 SETON DR</td>\n",
       "      <td>NaN</td>\n",
       "      <td>CUMBERLAND</td>\n",
       "      <td>215021854</td>\n",
       "      <td>...</td>\n",
       "      <td>99223</td>\n",
       "      <td>Initial hospital inpatient care, typically 70 ...</td>\n",
       "      <td>N</td>\n",
       "      <td>220.0</td>\n",
       "      <td>215.0</td>\n",
       "      <td>220.0</td>\n",
       "      <td>205.185955</td>\n",
       "      <td>631.186364</td>\n",
       "      <td>157.908955</td>\n",
       "      <td>160.930409</td>\n",
       "    </tr>\n",
       "  </tbody>\n",
       "</table>\n",
       "<p>5 rows × 25 columns</p>\n",
       "</div>"
      ],
      "text/plain": [
       "                             Last Name/Organization Name of the Provider  \\\n",
       "National Provider Identifier                                               \n",
       "1003000126                                                     ENKESHAFI   \n",
       "1003000126                                                     ENKESHAFI   \n",
       "1003000126                                                     ENKESHAFI   \n",
       "1003000126                                                     ENKESHAFI   \n",
       "1003000126                                                     ENKESHAFI   \n",
       "\n",
       "                             First Name of the Provider  \\\n",
       "National Provider Identifier                              \n",
       "1003000126                                      ARDALAN   \n",
       "1003000126                                      ARDALAN   \n",
       "1003000126                                      ARDALAN   \n",
       "1003000126                                      ARDALAN   \n",
       "1003000126                                      ARDALAN   \n",
       "\n",
       "                             Middle Initial of the Provider  \\\n",
       "National Provider Identifier                                  \n",
       "1003000126                                              NaN   \n",
       "1003000126                                              NaN   \n",
       "1003000126                                              NaN   \n",
       "1003000126                                              NaN   \n",
       "1003000126                                              NaN   \n",
       "\n",
       "                             Credentials of the Provider  \\\n",
       "National Provider Identifier                               \n",
       "1003000126                                          M.D.   \n",
       "1003000126                                          M.D.   \n",
       "1003000126                                          M.D.   \n",
       "1003000126                                          M.D.   \n",
       "1003000126                                          M.D.   \n",
       "\n",
       "                             Gender of the Provider  \\\n",
       "National Provider Identifier                          \n",
       "1003000126                                        M   \n",
       "1003000126                                        M   \n",
       "1003000126                                        M   \n",
       "1003000126                                        M   \n",
       "1003000126                                        M   \n",
       "\n",
       "                             Entity Type of the Provider  \\\n",
       "National Provider Identifier                               \n",
       "1003000126                                             I   \n",
       "1003000126                                             I   \n",
       "1003000126                                             I   \n",
       "1003000126                                             I   \n",
       "1003000126                                             I   \n",
       "\n",
       "                             Street Address 1 of the Provider  \\\n",
       "National Provider Identifier                                    \n",
       "1003000126                                       900 SETON DR   \n",
       "1003000126                                       900 SETON DR   \n",
       "1003000126                                       900 SETON DR   \n",
       "1003000126                                       900 SETON DR   \n",
       "1003000126                                       900 SETON DR   \n",
       "\n",
       "                             Street Address 2 of the Provider  \\\n",
       "National Provider Identifier                                    \n",
       "1003000126                                                NaN   \n",
       "1003000126                                                NaN   \n",
       "1003000126                                                NaN   \n",
       "1003000126                                                NaN   \n",
       "1003000126                                                NaN   \n",
       "\n",
       "                             City of the Provider Zip Code of the Provider  \\\n",
       "National Provider Identifier                                                 \n",
       "1003000126                             CUMBERLAND                215021854   \n",
       "1003000126                             CUMBERLAND                215021854   \n",
       "1003000126                             CUMBERLAND                215021854   \n",
       "1003000126                             CUMBERLAND                215021854   \n",
       "1003000126                             CUMBERLAND                215021854   \n",
       "\n",
       "                                              ...                  HCPCS Code  \\\n",
       "National Provider Identifier                  ...                               \n",
       "1003000126                                    ...                       99217   \n",
       "1003000126                                    ...                       99219   \n",
       "1003000126                                    ...                       99221   \n",
       "1003000126                                    ...                       99222   \n",
       "1003000126                                    ...                       99223   \n",
       "\n",
       "                                                              HCPCS Description  \\\n",
       "National Provider Identifier                                                      \n",
       "1003000126                                  Hospital observation care discharge   \n",
       "1003000126                       Hospital observation care typically 50 minutes   \n",
       "1003000126                    Initial hospital inpatient care, typically 30 ...   \n",
       "1003000126                    Initial hospital inpatient care, typically 50 ...   \n",
       "1003000126                    Initial hospital inpatient care, typically 70 ...   \n",
       "\n",
       "                             HCPCS Drug Indicator Number of Services  \\\n",
       "National Provider Identifier                                           \n",
       "1003000126                                      N               23.0   \n",
       "1003000126                                      N               18.0   \n",
       "1003000126                                      N               59.0   \n",
       "1003000126                                      N              132.0   \n",
       "1003000126                                      N              220.0   \n",
       "\n",
       "                             Number of Medicare Beneficiaries  \\\n",
       "National Provider Identifier                                    \n",
       "1003000126                                               23.0   \n",
       "1003000126                                               18.0   \n",
       "1003000126                                               58.0   \n",
       "1003000126                                              130.0   \n",
       "1003000126                                              215.0   \n",
       "\n",
       "                             Number of Distinct Medicare Beneficiary/Per Day Services  \\\n",
       "National Provider Identifier                                                            \n",
       "1003000126                                                                 23.0         \n",
       "1003000126                                                                 18.0         \n",
       "1003000126                                                                 59.0         \n",
       "1003000126                                                                132.0         \n",
       "1003000126                                                                220.0         \n",
       "\n",
       "                             Average Medicare Allowed Amount  \\\n",
       "National Provider Identifier                                   \n",
       "1003000126                                         72.680000   \n",
       "1003000126                                        135.850000   \n",
       "1003000126                                        101.365085   \n",
       "1003000126                                        139.010455   \n",
       "1003000126                                        205.185955   \n",
       "\n",
       "                             Average Submitted Charge Amount  \\\n",
       "National Provider Identifier                                   \n",
       "1003000126                                        328.000000   \n",
       "1003000126                                        614.000000   \n",
       "1003000126                                        333.288136   \n",
       "1003000126                                        356.492424   \n",
       "1003000126                                        631.186364   \n",
       "\n",
       "                              Average Medicare Payment Amount  \\\n",
       "National Provider Identifier                                    \n",
       "1003000126                                          54.502609   \n",
       "1003000126                                         100.958889   \n",
       "1003000126                                          79.469661   \n",
       "1003000126                                         107.933409   \n",
       "1003000126                                         157.908955   \n",
       "\n",
       "                              Average Medicare Standardized Amount  \n",
       "National Provider Identifier                                        \n",
       "1003000126                                               55.280870  \n",
       "1003000126                                              102.348889  \n",
       "1003000126                                               80.859831  \n",
       "1003000126                                              107.969621  \n",
       "1003000126                                              160.930409  \n",
       "\n",
       "[5 rows x 25 columns]"
      ]
     },
     "execution_count": 2,
     "metadata": {},
     "output_type": "execute_result"
    }
   ],
   "source": [
    "data = pd.read_csv(\"medical_insurance.csv\", index_col = 'National Provider Identifier')\n",
    "data.head()"
   ]
  },
  {
   "cell_type": "code",
   "execution_count": 3,
   "metadata": {},
   "outputs": [
    {
     "name": "stdout",
     "output_type": "stream",
     "text": [
      "<class 'pandas.core.frame.DataFrame'>\n",
      "Int64Index: 9497892 entries, 1003000126 to 1861590176\n",
      "Data columns (total 25 columns):\n",
      "Last Name/Organization Name of the Provider                 object\n",
      "First Name of the Provider                                  object\n",
      "Middle Initial of the Provider                              object\n",
      "Credentials of the Provider                                 object\n",
      "Gender of the Provider                                      object\n",
      "Entity Type of the Provider                                 object\n",
      "Street Address 1 of the Provider                            object\n",
      "Street Address 2 of the Provider                            object\n",
      "City of the Provider                                        object\n",
      "Zip Code of the Provider                                    object\n",
      "State Code of the Provider                                  object\n",
      "Country Code of the Provider                                object\n",
      "Provider Type                                               object\n",
      "Medicare Participation Indicator                            object\n",
      "Place of Service                                            object\n",
      "HCPCS Code                                                  object\n",
      "HCPCS Description                                           object\n",
      "HCPCS Drug Indicator                                        object\n",
      "Number of Services                                          float64\n",
      "Number of Medicare Beneficiaries                            float64\n",
      "Number of Distinct Medicare Beneficiary/Per Day Services    float64\n",
      "Average Medicare Allowed Amount                             float64\n",
      "Average Submitted Charge Amount                             float64\n",
      "Average Medicare Payment Amount                             float64\n",
      "Average Medicare Standardized Amount                        float64\n",
      "dtypes: float64(7), object(18)\n",
      "memory usage: 1.8+ GB\n"
     ]
    }
   ],
   "source": [
    "data.info()"
   ]
  },
  {
   "cell_type": "markdown",
   "metadata": {},
   "source": [
    "### Subset Data to only California State"
   ]
  },
  {
   "cell_type": "code",
   "execution_count": 19,
   "metadata": {},
   "outputs": [],
   "source": [
    "data_ca = data.loc[data['State Code of the Provider']=='CA']"
   ]
  },
  {
   "cell_type": "markdown",
   "metadata": {},
   "source": [
    "### Visualize missing value"
   ]
  },
  {
   "cell_type": "code",
   "execution_count": 20,
   "metadata": {},
   "outputs": [
    {
     "data": {
      "text/plain": [
       "Last Name/Organization Name of the Provider                     27\n",
       "First Name of the Provider                                   40497\n",
       "Middle Initial of the Provider                              250116\n",
       "Credentials of the Provider                                  54201\n",
       "Gender of the Provider                                       40464\n",
       "Entity Type of the Provider                                      0\n",
       "Street Address 1 of the Provider                                 0\n",
       "Street Address 2 of the Provider                            348746\n",
       "City of the Provider                                             0\n",
       "Zip Code of the Provider                                         0\n",
       "State Code of the Provider                                       0\n",
       "Country Code of the Provider                                     0\n",
       "Provider Type                                                    0\n",
       "Medicare Participation Indicator                                 0\n",
       "Place of Service                                                 0\n",
       "HCPCS Code                                                       0\n",
       "HCPCS Description                                                0\n",
       "HCPCS Drug Indicator                                             0\n",
       "Number of Services                                               0\n",
       "Number of Medicare Beneficiaries                                 0\n",
       "Number of Distinct Medicare Beneficiary/Per Day Services         0\n",
       "Average Medicare Allowed Amount                                  0\n",
       "Average Submitted Charge Amount                                  0\n",
       "Average Medicare Payment Amount                                  0\n",
       "Average Medicare Standardized Amount                             0\n",
       "dtype: int64"
      ]
     },
     "execution_count": 20,
     "metadata": {},
     "output_type": "execute_result"
    }
   ],
   "source": [
    "data_ca.isnull().sum()"
   ]
  },
  {
   "cell_type": "markdown",
   "metadata": {},
   "source": [
    "####  Gender of the Provider"
   ]
  },
  {
   "cell_type": "code",
   "execution_count": 21,
   "metadata": {},
   "outputs": [
    {
     "name": "stdout",
     "output_type": "stream",
     "text": [
      "count     691100\n",
      "unique         2\n",
      "top            M\n",
      "freq      515106\n",
      "Name: Gender of the Provider, dtype: object\n"
     ]
    }
   ],
   "source": [
    "print (data_ca['Gender of the Provider'].describe())"
   ]
  },
  {
   "cell_type": "markdown",
   "metadata": {},
   "source": [
    "we can see that gender in male acounts for almost 74% of the data. It can be inferred from the fact that generally there are more male physicians (provider) than female physicians. The missing value in column \"Last Name/Organization Name of the Provider\" and \"Gender of the Provider\" account for less than 20% of the data, let's ignore the rows that missing with gender first."
   ]
  },
  {
   "cell_type": "code",
   "execution_count": 22,
   "metadata": {},
   "outputs": [],
   "source": [
    "data_ca_drop = data_ca[pd.notnull(data_ca['Gender of the Provider'])]"
   ]
  },
  {
   "cell_type": "code",
   "execution_count": 23,
   "metadata": {},
   "outputs": [],
   "source": [
    "# I will drop those features that I am not interested to look into\n",
    "data_ca_drop = data_ca_drop.drop(['Last Name/Organization Name of the Provider','Middle Initial of the Provider', 'First Name of the Provider','Credentials of the Provider','Street Address 2 of the Provider','State Code of the Provider','Country Code of the Provider'], axis=1)"
   ]
  },
  {
   "cell_type": "code",
   "execution_count": 24,
   "metadata": {},
   "outputs": [
    {
     "data": {
      "text/plain": [
       "Gender of the Provider                                      0\n",
       "Entity Type of the Provider                                 0\n",
       "Street Address 1 of the Provider                            0\n",
       "City of the Provider                                        0\n",
       "Zip Code of the Provider                                    0\n",
       "Provider Type                                               0\n",
       "Medicare Participation Indicator                            0\n",
       "Place of Service                                            0\n",
       "HCPCS Code                                                  0\n",
       "HCPCS Description                                           0\n",
       "HCPCS Drug Indicator                                        0\n",
       "Number of Services                                          0\n",
       "Number of Medicare Beneficiaries                            0\n",
       "Number of Distinct Medicare Beneficiary/Per Day Services    0\n",
       "Average Medicare Allowed Amount                             0\n",
       "Average Submitted Charge Amount                             0\n",
       "Average Medicare Payment Amount                             0\n",
       "Average Medicare Standardized Amount                        0\n",
       "dtype: int64"
      ]
     },
     "execution_count": 24,
     "metadata": {},
     "output_type": "execute_result"
    }
   ],
   "source": [
    "data_ca_drop.isnull().sum()"
   ]
  },
  {
   "cell_type": "markdown",
   "metadata": {},
   "source": [
    "Now we don't have any missing value in the dataframe, let's look at more details in this data. First, let's create a column to show the difference between \"Avergae submitted Charged Amount\" and \"Average Medicare Allowed Amount\". We would like to see what features would influence the difference bewteen medicare allowed amount and average submitted charge amount. This feature will be our target variable. "
   ]
  },
  {
   "cell_type": "code",
   "execution_count": 25,
   "metadata": {},
   "outputs": [],
   "source": [
    "data_ca_drop['Average Medicare Difference'] = data_ca_drop['Average Submitted Charge Amount']- data_ca_drop['Average Medicare Allowed Amount'] "
   ]
  },
  {
   "cell_type": "code",
   "execution_count": 26,
   "metadata": {},
   "outputs": [
    {
     "data": {
      "text/plain": [
       "Provider Type\n",
       "Thoracic Surgery                               1192.946294\n",
       "Neurosurgery                                   1149.126776\n",
       "Cardiac Surgery                                1146.053486\n",
       "Vascular Surgery                               1042.064660\n",
       "CRNA                                            882.815789\n",
       "Surgical Oncology                               831.411465\n",
       "Anesthesiology                                  774.339187\n",
       "Oral Surgery (dentists only)                    668.012523\n",
       "Interventional Radiology                        610.715219\n",
       "Radiation Oncology                              550.456707\n",
       "General Surgery                                 530.237879\n",
       "Orthopedic Surgery                              502.240653\n",
       "Gynecological/Oncology                          455.367475\n",
       "Sleep Medicine                                  439.615390\n",
       "Gastroenterology                                415.319883\n",
       "Sports Medicine                                 396.012203\n",
       "Interventional Cardiology                       375.440767\n",
       "Cardiac Electrophysiology                       371.759603\n",
       "Nuclear Medicine                                358.986105\n",
       "Pain Management                                 338.771129\n",
       "Colorectal Surgery (formerly proctology)        337.571471\n",
       "Interventional Pain Management                  337.390831\n",
       "Plastic and Reconstructive Surgery              325.228802\n",
       "Emergency Medicine                              312.367561\n",
       "Peripheral Vascular Disease                     303.483366\n",
       "Unknown Physician Specialty Code                290.213338\n",
       "Urology                                         289.752256\n",
       "Ophthalmology                                   280.185928\n",
       "Hand Surgery                                    253.764511\n",
       "Diagnostic Radiology                            252.835605\n",
       "                                                  ...     \n",
       "Dermatology                                     128.323075\n",
       "Certified Clinical Nurse Specialist             125.456712\n",
       "Infectious Disease                              125.361112\n",
       "Geriatric Medicine                              125.211704\n",
       "Pathology                                       120.842889\n",
       "Psychiatry                                      119.855950\n",
       "Obstetrics/Gynecology                           111.288042\n",
       "Unknown Supplier/Provider                       106.589962\n",
       "Endocrinology                                   101.930599\n",
       "Internal Medicine                                98.146681\n",
       "Speech Language Pathologist                      95.886582\n",
       "Preventive Medicine                              95.379929\n",
       "Licensed Clinical Social Worker                  94.374424\n",
       "Rheumatology                                     85.534342\n",
       "Addiction Medicine                               77.943951\n",
       "Clinical Psychologist                            77.273923\n",
       "General Practice                                 76.300232\n",
       "Audiologist (billing independently)              75.424888\n",
       "Family Practice                                  65.700546\n",
       "Podiatry                                         64.005102\n",
       "Psychologist (billing independently)             63.794448\n",
       "Allergy/Immunology                               47.608441\n",
       "Portable X-ray                                   39.199093\n",
       "Registered Dietician/Nutrition Professional      37.134874\n",
       "Optometry                                        36.962937\n",
       "Mass Immunization Roster Biller                  34.752857\n",
       "Occupational therapist                           28.862588\n",
       "Physical Therapist                               25.022706\n",
       "Chiropractic                                     14.223206\n",
       "Clinical Laboratory                              10.389968\n",
       "Name: Average Medicare Difference, Length: 80, dtype: float64"
      ]
     },
     "execution_count": 26,
     "metadata": {},
     "output_type": "execute_result"
    }
   ],
   "source": [
    "df_provider = data_ca_drop.groupby('Provider Type')['Average Medicare Difference'].mean().sort_values(ascending = False)\n",
    "df_provider"
   ]
  },
  {
   "cell_type": "markdown",
   "metadata": {},
   "source": [
    "We can see that only four providers have average medicare difference exceed $1000. We will focus in these four groups first."
   ]
  },
  {
   "cell_type": "code",
   "execution_count": 27,
   "metadata": {},
   "outputs": [],
   "source": [
    "data_pro_sub = data_ca_drop.loc[data_ca_drop['Provider Type'].isin(list(df_provider.head(4).index))]\n",
    "Y = data_pro_sub['Average Medicare Difference']\n",
    "X = data_pro_sub.drop(['Average Medicare Difference'], axis = 1)"
   ]
  },
  {
   "cell_type": "markdown",
   "metadata": {},
   "source": [
    "## Feature Exploration "
   ]
  },
  {
   "cell_type": "markdown",
   "metadata": {},
   "source": [
    "### Correlation Matrix"
   ]
  },
  {
   "cell_type": "code",
   "execution_count": 28,
   "metadata": {},
   "outputs": [
    {
     "data": {
      "text/html": [
       "<div>\n",
       "<style scoped>\n",
       "    .dataframe tbody tr th:only-of-type {\n",
       "        vertical-align: middle;\n",
       "    }\n",
       "\n",
       "    .dataframe tbody tr th {\n",
       "        vertical-align: top;\n",
       "    }\n",
       "\n",
       "    .dataframe thead th {\n",
       "        text-align: right;\n",
       "    }\n",
       "</style>\n",
       "<table border=\"1\" class=\"dataframe\">\n",
       "  <thead>\n",
       "    <tr style=\"text-align: right;\">\n",
       "      <th></th>\n",
       "      <th>Number of Services</th>\n",
       "      <th>Number of Medicare Beneficiaries</th>\n",
       "      <th>Number of Distinct Medicare Beneficiary/Per Day Services</th>\n",
       "      <th>Average Medicare Allowed Amount</th>\n",
       "      <th>Average Submitted Charge Amount</th>\n",
       "      <th>Average Medicare Payment Amount</th>\n",
       "      <th>Average Medicare Standardized Amount</th>\n",
       "      <th>Average Medicare Difference</th>\n",
       "    </tr>\n",
       "  </thead>\n",
       "  <tbody>\n",
       "    <tr>\n",
       "      <th>Number of Services</th>\n",
       "      <td>1.000000</td>\n",
       "      <td>0.335629</td>\n",
       "      <td>0.364224</td>\n",
       "      <td>-0.031486</td>\n",
       "      <td>-0.041591</td>\n",
       "      <td>-0.031597</td>\n",
       "      <td>-0.034286</td>\n",
       "      <td>-0.042009</td>\n",
       "    </tr>\n",
       "    <tr>\n",
       "      <th>Number of Medicare Beneficiaries</th>\n",
       "      <td>0.335629</td>\n",
       "      <td>1.000000</td>\n",
       "      <td>0.918180</td>\n",
       "      <td>-0.057655</td>\n",
       "      <td>-0.080469</td>\n",
       "      <td>-0.058113</td>\n",
       "      <td>-0.063210</td>\n",
       "      <td>-0.082562</td>\n",
       "    </tr>\n",
       "    <tr>\n",
       "      <th>Number of Distinct Medicare Beneficiary/Per Day Services</th>\n",
       "      <td>0.364224</td>\n",
       "      <td>0.918180</td>\n",
       "      <td>1.000000</td>\n",
       "      <td>-0.058485</td>\n",
       "      <td>-0.083358</td>\n",
       "      <td>-0.058874</td>\n",
       "      <td>-0.064489</td>\n",
       "      <td>-0.086014</td>\n",
       "    </tr>\n",
       "    <tr>\n",
       "      <th>Average Medicare Allowed Amount</th>\n",
       "      <td>-0.031486</td>\n",
       "      <td>-0.057655</td>\n",
       "      <td>-0.058485</td>\n",
       "      <td>1.000000</td>\n",
       "      <td>0.840891</td>\n",
       "      <td>0.999668</td>\n",
       "      <td>0.996223</td>\n",
       "      <td>0.706479</td>\n",
       "    </tr>\n",
       "    <tr>\n",
       "      <th>Average Submitted Charge Amount</th>\n",
       "      <td>-0.041591</td>\n",
       "      <td>-0.080469</td>\n",
       "      <td>-0.083358</td>\n",
       "      <td>0.840891</td>\n",
       "      <td>1.000000</td>\n",
       "      <td>0.842130</td>\n",
       "      <td>0.844090</td>\n",
       "      <td>0.977101</td>\n",
       "    </tr>\n",
       "    <tr>\n",
       "      <th>Average Medicare Payment Amount</th>\n",
       "      <td>-0.031597</td>\n",
       "      <td>-0.058113</td>\n",
       "      <td>-0.058874</td>\n",
       "      <td>0.999668</td>\n",
       "      <td>0.842130</td>\n",
       "      <td>1.000000</td>\n",
       "      <td>0.995971</td>\n",
       "      <td>0.708231</td>\n",
       "    </tr>\n",
       "    <tr>\n",
       "      <th>Average Medicare Standardized Amount</th>\n",
       "      <td>-0.034286</td>\n",
       "      <td>-0.063210</td>\n",
       "      <td>-0.064489</td>\n",
       "      <td>0.996223</td>\n",
       "      <td>0.844090</td>\n",
       "      <td>0.995971</td>\n",
       "      <td>1.000000</td>\n",
       "      <td>0.712148</td>\n",
       "    </tr>\n",
       "    <tr>\n",
       "      <th>Average Medicare Difference</th>\n",
       "      <td>-0.042009</td>\n",
       "      <td>-0.082562</td>\n",
       "      <td>-0.086014</td>\n",
       "      <td>0.706479</td>\n",
       "      <td>0.977101</td>\n",
       "      <td>0.708231</td>\n",
       "      <td>0.712148</td>\n",
       "      <td>1.000000</td>\n",
       "    </tr>\n",
       "  </tbody>\n",
       "</table>\n",
       "</div>"
      ],
      "text/plain": [
       "                                                    Number of Services  \\\n",
       "Number of Services                                            1.000000   \n",
       "Number of Medicare Beneficiaries                              0.335629   \n",
       "Number of Distinct Medicare Beneficiary/Per Day...            0.364224   \n",
       "Average Medicare Allowed Amount                              -0.031486   \n",
       "Average Submitted Charge Amount                              -0.041591   \n",
       "Average Medicare Payment Amount                              -0.031597   \n",
       "Average Medicare Standardized Amount                         -0.034286   \n",
       "Average Medicare Difference                                  -0.042009   \n",
       "\n",
       "                                                    Number of Medicare Beneficiaries  \\\n",
       "Number of Services                                                          0.335629   \n",
       "Number of Medicare Beneficiaries                                            1.000000   \n",
       "Number of Distinct Medicare Beneficiary/Per Day...                          0.918180   \n",
       "Average Medicare Allowed Amount                                            -0.057655   \n",
       "Average Submitted Charge Amount                                            -0.080469   \n",
       "Average Medicare Payment Amount                                            -0.058113   \n",
       "Average Medicare Standardized Amount                                       -0.063210   \n",
       "Average Medicare Difference                                                -0.082562   \n",
       "\n",
       "                                                    Number of Distinct Medicare Beneficiary/Per Day Services  \\\n",
       "Number of Services                                                                           0.364224          \n",
       "Number of Medicare Beneficiaries                                                             0.918180          \n",
       "Number of Distinct Medicare Beneficiary/Per Day...                                           1.000000          \n",
       "Average Medicare Allowed Amount                                                             -0.058485          \n",
       "Average Submitted Charge Amount                                                             -0.083358          \n",
       "Average Medicare Payment Amount                                                             -0.058874          \n",
       "Average Medicare Standardized Amount                                                        -0.064489          \n",
       "Average Medicare Difference                                                                 -0.086014          \n",
       "\n",
       "                                                    Average Medicare Allowed Amount  \\\n",
       "Number of Services                                                        -0.031486   \n",
       "Number of Medicare Beneficiaries                                          -0.057655   \n",
       "Number of Distinct Medicare Beneficiary/Per Day...                        -0.058485   \n",
       "Average Medicare Allowed Amount                                            1.000000   \n",
       "Average Submitted Charge Amount                                            0.840891   \n",
       "Average Medicare Payment Amount                                            0.999668   \n",
       "Average Medicare Standardized Amount                                       0.996223   \n",
       "Average Medicare Difference                                                0.706479   \n",
       "\n",
       "                                                    Average Submitted Charge Amount  \\\n",
       "Number of Services                                                        -0.041591   \n",
       "Number of Medicare Beneficiaries                                          -0.080469   \n",
       "Number of Distinct Medicare Beneficiary/Per Day...                        -0.083358   \n",
       "Average Medicare Allowed Amount                                            0.840891   \n",
       "Average Submitted Charge Amount                                            1.000000   \n",
       "Average Medicare Payment Amount                                            0.842130   \n",
       "Average Medicare Standardized Amount                                       0.844090   \n",
       "Average Medicare Difference                                                0.977101   \n",
       "\n",
       "                                                    Average Medicare Payment Amount  \\\n",
       "Number of Services                                                        -0.031597   \n",
       "Number of Medicare Beneficiaries                                          -0.058113   \n",
       "Number of Distinct Medicare Beneficiary/Per Day...                        -0.058874   \n",
       "Average Medicare Allowed Amount                                            0.999668   \n",
       "Average Submitted Charge Amount                                            0.842130   \n",
       "Average Medicare Payment Amount                                            1.000000   \n",
       "Average Medicare Standardized Amount                                       0.995971   \n",
       "Average Medicare Difference                                                0.708231   \n",
       "\n",
       "                                                    Average Medicare Standardized Amount  \\\n",
       "Number of Services                                                             -0.034286   \n",
       "Number of Medicare Beneficiaries                                               -0.063210   \n",
       "Number of Distinct Medicare Beneficiary/Per Day...                             -0.064489   \n",
       "Average Medicare Allowed Amount                                                 0.996223   \n",
       "Average Submitted Charge Amount                                                 0.844090   \n",
       "Average Medicare Payment Amount                                                 0.995971   \n",
       "Average Medicare Standardized Amount                                            1.000000   \n",
       "Average Medicare Difference                                                     0.712148   \n",
       "\n",
       "                                                    Average Medicare Difference  \n",
       "Number of Services                                                    -0.042009  \n",
       "Number of Medicare Beneficiaries                                      -0.082562  \n",
       "Number of Distinct Medicare Beneficiary/Per Day...                    -0.086014  \n",
       "Average Medicare Allowed Amount                                        0.706479  \n",
       "Average Submitted Charge Amount                                        0.977101  \n",
       "Average Medicare Payment Amount                                        0.708231  \n",
       "Average Medicare Standardized Amount                                   0.712148  \n",
       "Average Medicare Difference                                            1.000000  "
      ]
     },
     "execution_count": 28,
     "metadata": {},
     "output_type": "execute_result"
    }
   ],
   "source": [
    "data_pro_sub.corr()"
   ]
  },
  {
   "cell_type": "markdown",
   "metadata": {},
   "source": [
    "We can see that Average Medicare Allowed Amount, Average Submitted Charge Amount, Average Medicare Payment Amount,and Average Medicare Standardized Amount have higher correlation with Average Medicare Difference. We will focus on visualizing these features."
   ]
  },
  {
   "cell_type": "markdown",
   "metadata": {},
   "source": [
    "#### Average Medicare Difference"
   ]
  },
  {
   "cell_type": "code",
   "execution_count": 29,
   "metadata": {},
   "outputs": [
    {
     "data": {
      "text/plain": [
       "(array([  45.,  100.,  896., 3841., 2755., 1277.,  801.,  232.,   62.,\n",
       "          20.]),\n",
       " array([0.        , 0.618311  , 1.236622  , 1.85493301, 2.47324401,\n",
       "        3.09155501, 3.70986601, 4.32817702, 4.94648802, 5.56479902,\n",
       "        6.18311002]),\n",
       " <a list of 10 Patch objects>)"
      ]
     },
     "execution_count": 29,
     "metadata": {},
     "output_type": "execute_result"
    },
    {
     "data": {
      "image/png": "[encoded data removed]",
      "text/plain": [
       "<matplotlib.figure.Figure at 0x1a13a012b0>"
      ]
     },
     "metadata": {},
     "output_type": "display_data"
    }
   ],
   "source": [
    "plt.hist(pow(data_pro_sub['Average Medicare Difference'], 1/6))"
   ]
  },
  {
   "cell_type": "markdown",
   "metadata": {},
   "source": [
    "#### Average Medicare Allowed Amount"
   ]
  },
  {
   "cell_type": "code",
   "execution_count": 30,
   "metadata": {},
   "outputs": [
    {
     "data": {
      "text/plain": [
       "(array([1.000e+00, 3.400e+01, 8.000e+00, 4.000e+01, 3.630e+02, 2.293e+03,\n",
       "        5.125e+03, 1.501e+03, 5.960e+02, 6.800e+01]),\n",
       " array([-3.91202301, -2.53018528, -1.14834756,  0.23349017,  1.61532789,\n",
       "         2.99716562,  4.37900334,  5.76084107,  7.14267879,  8.52451652,\n",
       "         9.90635424]),\n",
       " <a list of 10 Patch objects>)"
      ]
     },
     "execution_count": 30,
     "metadata": {},
     "output_type": "execute_result"
    },
    {
     "data": {
      "image/png": "[encoded data removed]",
      "text/plain": [
       "<matplotlib.figure.Figure at 0x1a144e86d8>"
      ]
     },
     "metadata": {},
     "output_type": "display_data"
    }
   ],
   "source": [
    "# log transformation of Average Medicare Allowed Amount\n",
    "plt.hist(np.log(data_pro_sub['Average Medicare Allowed Amount']))"
   ]
  },
  {
   "cell_type": "code",
   "execution_count": 31,
   "metadata": {},
   "outputs": [],
   "source": [
    "# copy df\n",
    "data_pro_sub_copy = data_pro_sub.copy()\n",
    "# log transformation of \n",
    "data_pro_sub_copy['Log Average Medicare Allowed Amount'] = np.log(data_pro_sub['Average Medicare Allowed Amount'])"
   ]
  },
  {
   "cell_type": "code",
   "execution_count": 32,
   "metadata": {},
   "outputs": [
    {
     "data": {
      "text/plain": [
       "<matplotlib.legend.Legend at 0x1a144ef518>"
      ]
     },
     "execution_count": 32,
     "metadata": {},
     "output_type": "execute_result"
    },
    {
     "data": {
      "image/png": "[encoded data removed]",
      "text/plain": [
       "<matplotlib.figure.Figure at 0x1a1459e048>"
      ]
     },
     "metadata": {},
     "output_type": "display_data"
    }
   ],
   "source": [
    "sns.lmplot(x = 'Log Average Medicare Allowed Amount', y='Average Medicare Difference', data = data_pro_sub_copy, fit_reg = False, hue = 'Provider Type', legend = False)\n",
    "plt.legend(loc='upper left')"
   ]
  },
  {
   "cell_type": "markdown",
   "metadata": {},
   "source": [
    "We could see there's more variations in vascular surgery. With more allowed average medicare amoumt, there's a increasing trend in variations in average medicare difference and the amount of average medicare difference.  "
   ]
  },
  {
   "cell_type": "markdown",
   "metadata": {},
   "source": [
    "Now, I would like to see if there's a difference in entity type of the provider:"
   ]
  },
  {
   "cell_type": "code",
   "execution_count": 33,
   "metadata": {},
   "outputs": [
    {
     "data": {
      "text/plain": [
       "<matplotlib.legend.Legend at 0x1a14bf0630>"
      ]
     },
     "execution_count": 33,
     "metadata": {},
     "output_type": "execute_result"
    },
    {
     "data": {
      "image/png": "[encoded data removed]",
      "text/plain": [
       "<matplotlib.figure.Figure at 0x1a14bdf080>"
      ]
     },
     "metadata": {},
     "output_type": "display_data"
    }
   ],
   "source": [
    "sns.lmplot(x = 'Log Average Medicare Allowed Amount', y='Average Medicare Difference', data = data_pro_sub_copy, fit_reg = False, hue = 'Entity Type of the Provider', legend = False)\n",
    "plt.legend(loc='upper left')"
   ]
  },
  {
   "cell_type": "markdown",
   "metadata": {},
   "source": [
    "the result showed that based on these four provider types, all the provider registered as individuals.  "
   ]
  },
  {
   "cell_type": "markdown",
   "metadata": {},
   "source": [
    "#### Average Medicare Payment Amount"
   ]
  },
  {
   "cell_type": "code",
   "execution_count": 34,
   "metadata": {},
   "outputs": [
    {
     "data": {
      "text/plain": [
       "(array([1.000e+00, 3.400e+01, 8.000e+00, 4.000e+01, 3.700e+02, 2.452e+03,\n",
       "        4.966e+03, 1.494e+03, 5.960e+02, 6.800e+01]),\n",
       " array([-4.15197368e+00, -2.77047552e+00, -1.38897737e+00, -7.47922062e-03,\n",
       "         1.37401893e+00,  2.75551708e+00,  4.13701524e+00,  5.51851339e+00,\n",
       "         6.90001154e+00,  8.28150969e+00,  9.66300784e+00]),\n",
       " <a list of 10 Patch objects>)"
      ]
     },
     "execution_count": 34,
     "metadata": {},
     "output_type": "execute_result"
    },
    {
     "data": {
      "image/png": "[encoded data removed]",
      "text/plain": [
       "<matplotlib.figure.Figure at 0x1a14c0ec50>"
      ]
     },
     "metadata": {},
     "output_type": "display_data"
    }
   ],
   "source": [
    "plt.hist(np.log(data_pro_sub['Average Medicare Payment Amount']))"
   ]
  },
  {
   "cell_type": "code",
   "execution_count": 35,
   "metadata": {},
   "outputs": [
    {
     "data": {
      "text/plain": [
       "<matplotlib.legend.Legend at 0x1a1513a9b0>"
      ]
     },
     "execution_count": 35,
     "metadata": {},
     "output_type": "execute_result"
    },
    {
     "data": {
      "image/png": "[encoded data removed]",
      "text/plain": [
       "<matplotlib.figure.Figure at 0x1a1513ac88>"
      ]
     },
     "metadata": {},
     "output_type": "display_data"
    }
   ],
   "source": [
    "# scatter plot \n",
    "sns.lmplot(x = 'Average Medicare Payment Amount', y='Average Medicare Difference', data = data_pro_sub, fit_reg = False, hue = 'Provider Type', legend = False)\n",
    "plt.legend(loc='upper left')"
   ]
  },
  {
   "cell_type": "markdown",
   "metadata": {},
   "source": [
    "The scatter plot showed that vascular surgery varied the most in average medicare payment amount that medicare covered after coinsurance amount deducted compared to other surgery, and it can be visualized that there's slightly positive correlation between average medicare payment amount and average medicare difference. "
   ]
  },
  {
   "cell_type": "code",
   "execution_count": null,
   "metadata": {},
   "outputs": [],
   "source": []
  }
 ],
 "metadata": {
  "kernelspec": {
   "display_name": "Python 3",
   "language": "python",
   "name": "python3"
  },
  "language_info": {
   "codemirror_mode": {
    "name": "ipython",
    "version": 3
   },
   "file_extension": ".py",
   "mimetype": "text/x-python",
   "name": "python",
   "nbconvert_exporter": "python",
   "pygments_lexer": "ipython3",
   "version": "3.6.4"
  }
 },
 "nbformat": 4,
 "nbformat_minor": 2
}
