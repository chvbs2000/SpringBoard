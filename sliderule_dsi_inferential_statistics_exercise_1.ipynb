{
 "cells": [
  {
   "cell_type": "markdown",
   "metadata": {},
   "source": [
    "# What is the True Normal Human Body Temperature? \n",
    "\n",
    "#### Background\n",
    "\n",
    "The mean normal body temperature was held to be 37$^{\\circ}$C or 98.6$^{\\circ}$F for more than 120 years since it was first conceptualized and reported by Carl Wunderlich in a famous 1868 book. But, is this value statistically correct?"
   ]
  },
  {
   "cell_type": "markdown",
   "metadata": {},
   "source": [
    "<h3>Exercises</h3>\n",
    "\n",
    "<p>In this exercise, you will analyze a dataset of human body temperatures and employ the concepts of hypothesis testing, confidence intervals, and statistical significance.</p>\n",
    "\n",
    "<p>Answer the following questions <b>in this notebook below and submit to your Github account</b>.</p> \n",
    "\n",
    "<ol>\n",
    "<li>  Is the distribution of body temperatures normal? \n",
    "    <ul>\n",
    "    <li> Although this is not a requirement for the Central Limit Theorem to hold (read the introduction on Wikipedia's page about the CLT carefully: https://en.wikipedia.org/wiki/Central_limit_theorem), it gives us some peace of mind that the population may also be normally distributed if we assume that this sample is representative of the population.\n",
    "    <li> Think about the way you're going to check for the normality of the distribution. Graphical methods are usually used first, but there are also other ways: https://en.wikipedia.org/wiki/Normality_test\n",
    "    </ul>\n",
    "<li>  Is the sample size large? Are the observations independent?\n",
    "    <ul>\n",
    "    <li> Remember that this is a condition for the Central Limit Theorem, and hence the statistical tests we are using, to apply.\n",
    "    </ul>\n",
    "<li>  Is the true population mean really 98.6 degrees F?\n",
    "    <ul>\n",
    "    <li> First, try a bootstrap hypothesis test.\n",
    "    <li> Now, let's try frequentist statistical testing. Would you use a one-sample or two-sample test? Why?\n",
    "    <li> In this situation, is it appropriate to use the $t$ or $z$ statistic? \n",
    "    <li> Now try using the other test. How is the result be different? Why?\n",
    "    </ul>\n",
    "<li>  Draw a small sample of size 10 from the data and repeat both frequentist tests. \n",
    "    <ul>\n",
    "    <li> Which one is the correct one to use? \n",
    "    <li> What do you notice? What does this tell you about the difference in application of the $t$ and $z$ statistic?\n",
    "    </ul>\n",
    "<li>  At what temperature should we consider someone's temperature to be \"abnormal\"?\n",
    "    <ul>\n",
    "    <li> As in the previous example, try calculating everything using the boostrap approach, as well as the frequentist approach.\n",
    "    <li> Start by computing the margin of error and confidence interval. When calculating the confidence interval, keep in mind that you should use the appropriate formula for one draw, and not N draws.\n",
    "    </ul>\n",
    "<li>  Is there a significant difference between males and females in normal temperature?\n",
    "    <ul>\n",
    "    <li> What testing approach did you use and why?\n",
    "    <li> Write a story with your conclusion in the context of the original problem.\n",
    "    </ul>\n",
    "</ol>\n",
    "\n",
    "You can include written notes in notebook cells using Markdown: \n",
    "   - In the control panel at the top, choose Cell > Cell Type > Markdown\n",
    "   - Markdown syntax: http://nestacms.com/docs/creating-content/markdown-cheat-sheet\n",
    "\n",
    "#### Resources\n",
    "\n",
    "+ Information and data sources: http://www.amstat.org/publications/jse/datasets/normtemp.txt, http://www.amstat.org/publications/jse/jse_data_archive.htm\n",
    "+ Markdown syntax: http://nestacms.com/docs/creating-content/markdown-cheat-sheet\n",
    "\n",
    "****"
   ]
  },
  {
   "cell_type": "markdown",
   "metadata": {},
   "source": [
    "#1. Is the distribution of body temperatures normal?\n",
    "Although this is not a requirement for the Central Limit Theorem to hold (read the introduction on Wikipedia's page about the CLT carefully: https://en.wikipedia.org/wiki/Central_limit_theorem), it gives us some peace of mind that the population may also be normally distributed if we assume that this sample is representative of the population.\n",
    "Think about the way you're going to check for the normality of the distribution. Graphical methods are usually used first, but there are also other ways: https://en.wikipedia.org/wiki/Normality_test"
   ]
  },
  {
   "cell_type": "code",
   "execution_count": 1,
   "metadata": {},
   "outputs": [],
   "source": [
    "import pandas as pd\n",
    "df = pd.read_csv('data/human_body_temperature.csv')"
   ]
  },
  {
   "cell_type": "code",
   "execution_count": 2,
   "metadata": {},
   "outputs": [
    {
     "data": {
      "text/html": [
       "<div>\n",
       "<style scoped>\n",
       "    .dataframe tbody tr th:only-of-type {\n",
       "        vertical-align: middle;\n",
       "    }\n",
       "\n",
       "    .dataframe tbody tr th {\n",
       "        vertical-align: top;\n",
       "    }\n",
       "\n",
       "    .dataframe thead th {\n",
       "        text-align: right;\n",
       "    }\n",
       "</style>\n",
       "<table border=\"1\" class=\"dataframe\">\n",
       "  <thead>\n",
       "    <tr style=\"text-align: right;\">\n",
       "      <th></th>\n",
       "      <th>temperature</th>\n",
       "      <th>gender</th>\n",
       "      <th>heart_rate</th>\n",
       "    </tr>\n",
       "  </thead>\n",
       "  <tbody>\n",
       "    <tr>\n",
       "      <th>0</th>\n",
       "      <td>99.3</td>\n",
       "      <td>F</td>\n",
       "      <td>68.0</td>\n",
       "    </tr>\n",
       "    <tr>\n",
       "      <th>1</th>\n",
       "      <td>98.4</td>\n",
       "      <td>F</td>\n",
       "      <td>81.0</td>\n",
       "    </tr>\n",
       "    <tr>\n",
       "      <th>2</th>\n",
       "      <td>97.8</td>\n",
       "      <td>M</td>\n",
       "      <td>73.0</td>\n",
       "    </tr>\n",
       "    <tr>\n",
       "      <th>3</th>\n",
       "      <td>99.2</td>\n",
       "      <td>F</td>\n",
       "      <td>66.0</td>\n",
       "    </tr>\n",
       "    <tr>\n",
       "      <th>4</th>\n",
       "      <td>98.0</td>\n",
       "      <td>F</td>\n",
       "      <td>73.0</td>\n",
       "    </tr>\n",
       "  </tbody>\n",
       "</table>\n",
       "</div>"
      ],
      "text/plain": [
       "   temperature gender  heart_rate\n",
       "0         99.3      F        68.0\n",
       "1         98.4      F        81.0\n",
       "2         97.8      M        73.0\n",
       "3         99.2      F        66.0\n",
       "4         98.0      F        73.0"
      ]
     },
     "execution_count": 2,
     "metadata": {},
     "output_type": "execute_result"
    }
   ],
   "source": [
    "df.head(5)"
   ]
  },
  {
   "cell_type": "code",
   "execution_count": 6,
   "metadata": {},
   "outputs": [
    {
     "data": {
      "image/png": "[encoded data removed]",
      "text/plain": [
       "<matplotlib.figure.Figure at 0x1c1f820b70>"
      ]
     },
     "metadata": {},
     "output_type": "display_data"
    }
   ],
   "source": [
    "## 1. Is the distribution of body temperatures normal?\n",
    "## (Q-Q plot)\n",
    "import statsmodels.api as sm\n",
    "import pylab\n",
    "\n",
    "temperature = df['temperature']   \n",
    "stats.probplot(temperature, dist=\"norm\", plot=pylab)\n",
    "pylab.show()\n",
    "\n"
   ]
  },
  {
   "cell_type": "code",
   "execution_count": 34,
   "metadata": {},
   "outputs": [
    {
     "data": {
      "text/plain": [
       "(array([ 4.,  6., 15., 26., 30., 30., 15.,  1.,  2.,  1.]),\n",
       " array([ 96.3 ,  96.75,  97.2 ,  97.65,  98.1 ,  98.55,  99.  ,  99.45,\n",
       "         99.9 , 100.35, 100.8 ]),\n",
       " <a list of 10 Patch objects>)"
      ]
     },
     "execution_count": 34,
     "metadata": {},
     "output_type": "execute_result"
    },
    {
     "data": {
      "image/png": "[encoded data removed]",
      "text/plain": [
       "<matplotlib.figure.Figure at 0x1c21e42eb8>"
      ]
     },
     "metadata": {},
     "output_type": "display_data"
    }
   ],
   "source": [
    "#historgram of temperature parameter\n",
    "plt.hist(df['temperature'])"
   ]
  },
  {
   "cell_type": "markdown",
   "metadata": {},
   "source": [
    "The Q-Q plot show the distribution of temperature is closed to normal distribution. Yet if we look from histogram plot, we can see some outliers actually exist in the temperature parameters."
   ]
  },
  {
   "cell_type": "markdown",
   "metadata": {},
   "source": [
    "#2. Is the sample size large? Are the observations independent?\n",
    "Remember that this is a condition for the Central Limit Theorem, and hence the statistical tests we are using, to apply."
   ]
  },
  {
   "cell_type": "code",
   "execution_count": 7,
   "metadata": {},
   "outputs": [
    {
     "name": "stdout",
     "output_type": "stream",
     "text": [
      "(130, 3)\n"
     ]
    }
   ],
   "source": [
    "## 2a.Is the sample size large? \n",
    "print (df.shape)"
   ]
  },
  {
   "cell_type": "markdown",
   "metadata": {},
   "source": [
    "Based on CLT, it dictated that if the sample size is large enough(>30). then the sample should represent a normal distribution. Therefore, The sample size is large enough. "
   ]
  },
  {
   "cell_type": "code",
   "execution_count": 14,
   "metadata": {},
   "outputs": [
    {
     "data": {
      "image/png": "[encoded data removed]",
      "text/plain": [
       "<matplotlib.figure.Figure at 0x1c1fd4ab38>"
      ]
     },
     "metadata": {},
     "output_type": "display_data"
    }
   ],
   "source": [
    "## 2b. Are the observations independent?\n",
    "import matplotlib.pyplot as plt\n",
    "import seaborn as sns\n",
    "\n",
    "sns.lmplot( x=\"temperature\", y=\"heart_rate\", data=df, fit_reg=False, hue='gender', legend=False)\n",
    "plt.legend(loc='lower right')\n",
    "plt.show()"
   ]
  },
  {
   "cell_type": "code",
   "execution_count": 16,
   "metadata": {},
   "outputs": [
    {
     "data": {
      "image/png": "[encoded data removed]",
      "text/plain": [
       "<matplotlib.figure.Figure at 0x1c20061588>"
      ]
     },
     "metadata": {},
     "output_type": "display_data"
    }
   ],
   "source": [
    "corr = df.corr()\n",
    "sns.heatmap(corr, \n",
    "            xticklabels=corr.columns.values,\n",
    "            yticklabels=corr.columns.values)\n",
    "plt.show()"
   ]
  },
  {
   "cell_type": "markdown",
   "metadata": {},
   "source": [
    "The scatter plot and the correlation coefficient heatmap between temperature and heart rate seems random distributed, therefore they should be independent to each other."
   ]
  },
  {
   "cell_type": "markdown",
   "metadata": {},
   "source": [
    "#3. Is the true population mean really 98.6 degrees F?\n",
    "First, try a bootstrap hypothesis test.\n",
    "Now, let's try frequentist statistical testing. Would you use a one-sample or two-sample test? Why?\n",
    "In this situation, is it appropriate to use the  t or  z statistic?\n",
    "Now try using the other test. How is the result be different? Why?"
   ]
  },
  {
   "cell_type": "code",
   "execution_count": 21,
   "metadata": {},
   "outputs": [
    {
     "name": "stdout",
     "output_type": "stream",
     "text": [
      "0.498\n"
     ]
    }
   ],
   "source": [
    "def diff_from_true(data, true_value = 98.6):\n",
    "    return np.mean(data) - true_value\n",
    "\n",
    "def bootstrap_replicate_1d(data,func):\n",
    "    return func(np.random.choice(data, size = len(data)))\n",
    "\n",
    "def draw_bs_reps(data, func, size = 1):\n",
    "    \n",
    "    #initializearray\n",
    "    bs_replicate = np.empty(size)\n",
    "    \n",
    "    #generate replicates\n",
    "    for i in range(size):\n",
    "        bs_replicate[i] = bootstrap_replicate_1d(data, func)\n",
    "        \n",
    "    return bs_replicate\n",
    "\n",
    "true_value = 98.6\n",
    "exp_shift = df['temperature'] - np.mean(df['temperature']) + 98.6\n",
    "diff_obs = diff_from_true(df['temperature'])\n",
    "bs_replicate = draw_bs_reps(df['temperature'], diff_from_true, 10000)\n",
    "p_value = np.sum(bs_replicate <= diff_obs)/10000\n",
    "\n",
    "print (p_value)"
   ]
  },
  {
   "cell_type": "markdown",
   "metadata": {},
   "source": [
    "The p_value is larger than 0.05, therefore there's no significant difference between empirical sample mean and the true population mean.  "
   ]
  },
  {
   "cell_type": "markdown",
   "metadata": {},
   "source": [
    "We would use one sample t-test since we are comparing sample mean from the population mean."
   ]
  },
  {
   "cell_type": "markdown",
   "metadata": {},
   "source": [
    "Although the sample size is larger than 30, yet the population standard deviation is uncertain, therefore I would use t-test instead.  "
   ]
  },
  {
   "cell_type": "code",
   "execution_count": 29,
   "metadata": {},
   "outputs": [
    {
     "name": "stdout",
     "output_type": "stream",
     "text": [
      "one-sample t-test 2.4106320415561276e-07\n"
     ]
    }
   ],
   "source": [
    "# one sample t-test\n",
    "from scipy import stats\n",
    "\n",
    "t_statistic, p_value = stats.ttest_1samp(df['temperature'], popmean = 98.6)\n",
    "\n",
    "print (\"one-sample t-test\", p_value)"
   ]
  },
  {
   "cell_type": "code",
   "execution_count": 33,
   "metadata": {},
   "outputs": [
    {
     "name": "stdout",
     "output_type": "stream",
     "text": [
      "one-sample wilcoxon-test 1.166100005354314e-06\n"
     ]
    }
   ],
   "source": [
    "# one sample wilcoxon-test\n",
    "z_statistic, p_value = stats.wilcoxon(df['temperature'] - 98.6)\n",
    "print (\"one-sample wilcoxon-test\", p_value)"
   ]
  },
  {
   "cell_type": "markdown",
   "metadata": {},
   "source": [
    "The result from wilcoxon-test and t-test seems very similar, yet their samll difference can be explained by the fact that the distribution is not perfectly symmetric. "
   ]
  },
  {
   "cell_type": "markdown",
   "metadata": {},
   "source": [
    "#4. Draw a small sample of size 10 from the data and repeat both frequentist tests.\n",
    "Which one is the correct one to use?\n",
    "What do you notice? What does this tell you about the difference in application of the  t and  z statistic?"
   ]
  },
  {
   "cell_type": "code",
   "execution_count": 37,
   "metadata": {},
   "outputs": [
    {
     "name": "stdout",
     "output_type": "stream",
     "text": [
      "one-sample t-test 1.166100005354314e-06\n",
      "one-sample wilcoxon-test 0.01234415027372231\n"
     ]
    }
   ],
   "source": [
    "# draw 10 samples from the dataframe\n",
    "df_10 = df.sample(10)\n",
    "\n",
    "## one sample t-test\n",
    "t_stat_10, p_value_10 = stats.ttest_1samp(df_10['temperature'], popmean = 98.6)\n",
    "print (\"one-sample t-test\", p_value)\n",
    "\n",
    "# one sample wilcoxon-test\n",
    "z_stat_10, p_value_10_z = stats.wilcoxon(df_10['temperature'] - 98.6)\n",
    "print (\"one-sample wilcoxon-test\", p_value_10_z)"
   ]
  },
  {
   "cell_type": "markdown",
   "metadata": {},
   "source": [
    "In the case, we only know population mean, we don't know about the population standard deviation. Here, the sample size is smaller than 30, therefore t-test should be more suitable. \n",
    "\n",
    "There seems a significant difference between z-test and t-test. It could be explained by the fact that z-score is sensitive to the sample size and the smaller the sample size, the more sensitive it is to the central tendency. Whereas t-test can be used to acocunt for the sample variance when the sample is small and the data is normally distrubted. \n",
    "\n",
    "--------------------------------------------------------------------------"
   ]
  },
  {
   "cell_type": "markdown",
   "metadata": {},
   "source": [
    "#5. At what temperature should we consider someone's temperature to be \"abnormal\"?\n",
    "As in the previous example, try calculating everything using the boostrap approach, as well as the frequentist approach.\n",
    "Start by computing the margin of error and confidence interval. When calculating the confidence interval, keep in mind that you should use the appropriate formula for one draw, and not N draws."
   ]
  },
  {
   "cell_type": "code",
   "execution_count": 41,
   "metadata": {},
   "outputs": [
    {
     "name": "stdout",
     "output_type": "stream",
     "text": [
      "95% confidence interval = [98.12998077 98.36846154] temperatures\n"
     ]
    },
    {
     "data": {
      "image/png": "[encoded data removed]",
      "text/plain": [
       "<matplotlib.figure.Figure at 0x1c21eefc50>"
      ]
     },
     "metadata": {},
     "output_type": "display_data"
    }
   ],
   "source": [
    "## bootstrap\n",
    "\"\"\"\n",
    "def draw_bs_pairs_linreg(x, y, size=1):\n",
    "    ##Perform pairs bootstrap for linear regression.\n",
    "\n",
    "    # Set up array of indices to sample from: inds\n",
    "    inds = np.arange(len(x))\n",
    "\n",
    "    # Initialize replicates: bs_slope_reps, bs_intercept_reps\n",
    "    bs_slope_reps = np.empty(size)\n",
    "    bs_intercept_reps = np.empty(size)\n",
    "\n",
    "    # Generate replicates\n",
    "    for i in range(size):\n",
    "        bs_inds = np.random.choice(inds, size=len(inds))\n",
    "        bs_x, bs_y = x[bs_inds], y[bs_inds]\n",
    "        bs_slope_reps[i], bs_intercept_reps[i] = np.polyfit(bs_x, bs_y, 1)\n",
    "\n",
    "    return bs_slope_reps, bs_intercept_reps\n",
    "\"\"\"\n",
    "\n",
    "bs_replicates = draw_bs_reps(df['temperature'], np.mean, size=1000)\n",
    "\n",
    "# Compute the 95% confidence interval: conf_int\n",
    "conf_int = np.percentile(bs_replicates, [2.5, 97.5])\n",
    "\n",
    "# Print the confidence interval\n",
    "print('95% confidence interval =', conf_int, 'temperatures')\n",
    "\n",
    "# Plot the histogram of the replicates\n",
    "_ = plt.hist(bs_replicates, bins=50, normed=True)\n",
    "_ = plt.xlabel('temperatures')\n",
    "_ = plt.ylabel('PDF')\n",
    "\n",
    "# Show the plot\n",
    "plt.show()\n"
   ]
  },
  {
   "cell_type": "code",
   "execution_count": 45,
   "metadata": {},
   "outputs": [
    {
     "name": "stdout",
     "output_type": "stream",
     "text": [
      "The 95% confident interval for t-test would be  98.12367980442819 and  98.37478173403328\n"
     ]
    }
   ],
   "source": [
    "# z-test\n",
    "sample_sd = np.std(df['temperature'])\n",
    "se = sample_sd/np.sqrt(df.shape[0])\n",
    "lower = np.mean(df['temperature'])- 1.96*se \n",
    "upper = np.mean(df['temperature'] + 1.96*se)\n",
    "\n",
    "print (\"The 95% confident interval for t-test would be \", lower, \"and \", upper)\n"
   ]
  },
  {
   "cell_type": "markdown",
   "metadata": {},
   "source": [
    "If the temperature below 98.13 or if the temperature is above 98.37, the the temperature would be considered \"abnormal\"."
   ]
  },
  {
   "cell_type": "markdown",
   "metadata": {},
   "source": [
    "#6 Is there a significant difference between males and females in normal temperature?\n",
    "What testing approach did you use and why?\n",
    "Write a story with your conclusion in the context of the original problem."
   ]
  },
  {
   "cell_type": "code",
   "execution_count": 55,
   "metadata": {},
   "outputs": [
    {
     "name": "stdout",
     "output_type": "stream",
     "text": [
      "p-value = 0.9893\n"
     ]
    }
   ],
   "source": [
    "# males df\n",
    "df_male = df.loc[df['gender']=='M']\n",
    "\n",
    "# female df\n",
    "df_female = df.loc[df['gender']=='F']\n",
    "\n",
    "# male temperature\n",
    "t_m = df_male['temperature']\n",
    "\n",
    "# female temperature\n",
    "t_f = df_female['temperature']\n",
    "\n",
    "# Compute the difference in mean temperature: diff_means\n",
    "diff_means = np.mean(t_m) - np.mean(t_f)\n",
    "\n",
    "# Compute mean of pooled data: mean_count\n",
    "mean_count = np.mean(np.concatenate((t_m, t_f)))\n",
    "\n",
    "# Generate shifted data sets\n",
    "male_shifted = t_m - np.mean(t_m) + mean_count\n",
    "female_shifted = t_f - np.mean(t_f) + mean_count\n",
    "\n",
    "# Generate bootstrap replicates\n",
    "bs_reps_male = draw_bs_reps(male_shifted,\n",
    "                               np.mean, size=10000)\n",
    "bs_reps_female = draw_bs_reps(female_shifted,\n",
    "                               np.mean, size=10000)\n",
    "\n",
    "# Get replicates of difference of means: bs_replicates\n",
    "bs_replicates = bs_reps_male - bs_reps_female\n",
    "\n",
    "# Compute and print p-value: p\n",
    "p = np.sum(bs_replicates >= np.mean(t_m) - np.mean(t_f)) \\\n",
    "            / len(bs_replicates)\n",
    "print('p-value =', p)"
   ]
  },
  {
   "cell_type": "markdown",
   "metadata": {},
   "source": [
    "The result showed that there's no significant difference between males and females normal temperature. I would use bootstrap because it is uncertain for both male and female's data distribution, is would be more robust to to use bootstrap simulate a hypothesis."
   ]
  },
  {
   "cell_type": "code",
   "execution_count": null,
   "metadata": {},
   "outputs": [],
   "source": []
  }
 ],
 "metadata": {
  "kernelspec": {
   "display_name": "Python 3",
   "language": "python",
   "name": "python3"
  },
  "language_info": {
   "codemirror_mode": {
    "name": "ipython",
    "version": 3
   },
   "file_extension": ".py",
   "mimetype": "text/x-python",
   "name": "python",
   "nbconvert_exporter": "python",
   "pygments_lexer": "ipython3",
   "version": "3.6.4"
  }
 },
 "nbformat": 4,
 "nbformat_minor": 1
}
